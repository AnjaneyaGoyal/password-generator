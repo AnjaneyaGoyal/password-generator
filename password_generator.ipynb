{
  "nbformat": 4,
  "nbformat_minor": 0,
  "metadata": {
    "colab": {
      "provenance": [],
      "authorship_tag": "ABX9TyMc4KJvzP9Yam9JjAU+1MbI",
      "include_colab_link": true
    },
    "kernelspec": {
      "name": "python3",
      "display_name": "Python 3"
    },
    "language_info": {
      "name": "python"
    }
  },
  "cells": [
    {
      "cell_type": "markdown",
      "metadata": {
        "id": "view-in-github",
        "colab_type": "text"
      },
      "source": [
        "<a href=\"https://colab.research.google.com/github/AnjaneyaGoyal/password-generator/blob/main/password_generator.ipynb\" target=\"_parent\"><img src=\"https://colab.research.google.com/assets/colab-badge.svg\" alt=\"Open In Colab\"/></a>"
      ]
    },
    {
      "cell_type": "code",
      "execution_count": null,
      "metadata": {
        "id": "3scxA3H1Oehm"
      },
      "outputs": [],
      "source": [
        "import random as r\n",
        "import string as s\n",
        "\n",
        "print(\"enter the number of numerical digits in password\")\n",
        "n=int(input())\n",
        "print(\"enter the number of letters in password\")\n",
        "p=int(input())\n",
        "number1= \"\".join(r.sample(s.digits,n))\n",
        "print(\"Digits-->\",number1)\n",
        "\n",
        "string1=\"\".join(r.sample(s.ascii_letters,p))\n",
        "print(\"letters-->\",string1)\n",
        "\n",
        "passw=string1+str(number1)\n",
        "\n",
        "print(\"password-->\",passw)\n",
        "p=len(passw)\n",
        "pa=[0]*p\n",
        "i=0\n",
        "for char in passw:\n",
        "    pa[i]=char\n",
        "    i+=1\n",
        "print(pa)\n",
        "passwmix=\"\"\n",
        "for l in pa:\n",
        "    char=pa.pop(r.randint(3,len(pa)-1))\n",
        "    pa.insert(0,char)\n",
        "for t in pa:\n",
        "    passwmix+=t\n",
        "\n",
        "print(\"password-->\",pa)\n",
        "print(\"password -->\",passwmix)"
      ]
    }
  ]
}